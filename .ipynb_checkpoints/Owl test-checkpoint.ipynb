{
 "cells": [
  {
   "cell_type": "code",
   "execution_count": 44,
   "metadata": {},
   "outputs": [
    {
     "ename": "SyntaxError",
     "evalue": "EOL while scanning string literal (<ipython-input-44-ac51fdd4a025>, line 37)",
     "output_type": "error",
     "traceback": [
      "\u001b[0;36m  File \u001b[0;32m\"<ipython-input-44-ac51fdd4a025>\"\u001b[0;36m, line \u001b[0;32m37\u001b[0m\n\u001b[0;31m    text[replacement_index] = u'\\U0001F989\u001b[0m\n\u001b[0m                                          ^\u001b[0m\n\u001b[0;31mSyntaxError\u001b[0m\u001b[0;31m:\u001b[0m EOL while scanning string literal\n"
     ]
    }
   ],
   "source": [
    "import requests\n",
    "import nltk\n",
    "import json\n",
    "\n",
    "from nltk.tokenize.moses import MosesDetokenizer\n",
    "\n",
    "\n",
    "# nltk.download('punkt')\n",
    "# nltk.download('maxent_treebank_pos_tagger')\n",
    "# nltk.download('averaged_perceptron_tagger')\n",
    "# nltk.download('perluniprops')\n",
    "\n",
    "url = \"http://api.aeneid.eu/sortes\"\n",
    "\n",
    "r = requests.get(url)\n",
    "\n",
    "doc = r.json()\n",
    "raw_text = doc['text'][0]\n",
    "\n",
    "print (raw_text)\n",
    "\n",
    "text = nltk.word_tokenize(raw_text)\n",
    "tokenized_list = nltk.pos_tag(text)\n",
    "\n",
    "print(text)\n",
    "\n",
    "replacement_index = ''\n",
    "\n",
    "for index, token in enumerate(tokenized_list):\n",
    "    if token[1][:1] == 'N':\n",
    "        replacement_index = index\n",
    "        break\n",
    "\n",
    "print(replacement_index)\n",
    "\n",
    "# text[replacement_index] = 'owl'\n",
    "text[replacement_index] = u'\\U0001F989'\n",
    "print(text)\n",
    "\n",
    "detokenizer = MosesDetokenizer()\n",
    "sentence = detokenizer.detokenize(text, return_str=True)\n",
    "#test owl\n",
    "print(u'\\U0001F989')\n",
    "#test chili peppers\n",
    "print(u\"\\U0001F336\")"
   ]
  },
  {
   "cell_type": "code",
   "execution_count": null,
   "metadata": {
    "collapsed": true
   },
   "outputs": [],
   "source": []
  },
  {
   "cell_type": "code",
   "execution_count": null,
   "metadata": {
    "collapsed": true
   },
   "outputs": [],
   "source": []
  },
  {
   "cell_type": "code",
   "execution_count": null,
   "metadata": {
    "collapsed": true
   },
   "outputs": [],
   "source": []
  }
 ],
 "metadata": {
  "kernelspec": {
   "display_name": "Python 3",
   "language": "python",
   "name": "python3"
  },
  "language_info": {
   "codemirror_mode": {
    "name": "ipython",
    "version": 3
   },
   "file_extension": ".py",
   "mimetype": "text/x-python",
   "name": "python",
   "nbconvert_exporter": "python",
   "pygments_lexer": "ipython3",
   "version": "3.6.1"
  }
 },
 "nbformat": 4,
 "nbformat_minor": 2
}
