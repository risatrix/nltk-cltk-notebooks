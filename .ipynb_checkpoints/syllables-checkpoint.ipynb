{
 "cells": [
  {
   "cell_type": "code",
   "execution_count": 5,
   "metadata": {},
   "outputs": [
    {
     "ename": "SyntaxError",
     "evalue": "invalid syntax (<ipython-input-5-f1dc8a76dca9>, line 6)",
     "output_type": "error",
     "traceback": [
      "\u001b[0;36m  File \u001b[0;32m\"<ipython-input-5-f1dc8a76dca9>\"\u001b[0;36m, line \u001b[0;32m6\u001b[0m\n\u001b[0;31m    from nltk.corpus import cmudict s\u001b[0m\n\u001b[0m                                    ^\u001b[0m\n\u001b[0;31mSyntaxError\u001b[0m\u001b[0;31m:\u001b[0m invalid syntax\n"
     ]
    }
   ],
   "source": [
    "import nltk\n",
    "\n",
    "\n",
    "nltk.download('cmudict')\n",
    "\n",
    "from nltk.corpus import cmudict\n",
    "\n",
    "d = cmudict.dict()\n",
    "\n",
    "test_sentence = 'Colorless green ideas dream furiously.'\n",
    "\n",
    "def nsyl_sent(sentence):\n",
    "    nsyl = 0\n",
    "    tokens = word_tokenize(sentence)\n",
    "    for t in tokens:\n",
    "        if t.lower() in d:\n",
    "            word_syl = [len(list(y for y in x if y[-1].isdigit())) for x in d[t.lower()]]\n",
    "            print(word_syl)\n",
    "            nsyl += word_syl[0]\n",
    "    return nsyl\n",
    "\n",
    "nsyl(test_sentence)\n",
    "# https://github.com/wayspurrchen/NovelFramer/blob/master/syllable.py\n"
   ]
  },
  {
   "cell_type": "code",
   "execution_count": null,
   "metadata": {
    "collapsed": true
   },
   "outputs": [],
   "source": []
  }
 ],
 "metadata": {
  "kernelspec": {
   "display_name": "Python 3",
   "language": "python",
   "name": "python3"
  },
  "language_info": {
   "codemirror_mode": {
    "name": "ipython",
    "version": 3
   },
   "file_extension": ".py",
   "mimetype": "text/x-python",
   "name": "python",
   "nbconvert_exporter": "python",
   "pygments_lexer": "ipython3",
   "version": "3.6.1"
  }
 },
 "nbformat": 4,
 "nbformat_minor": 2
}
