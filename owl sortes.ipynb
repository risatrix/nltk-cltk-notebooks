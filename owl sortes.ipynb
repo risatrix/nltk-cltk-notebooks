{
 "cells": [
  {
   "cell_type": "code",
   "execution_count": 81,
   "metadata": {},
   "outputs": [
    {
     "name": "stdout",
     "output_type": "stream",
     "text": [
      "[('axem', None), ('umero', 'N-S---MD-'), ('torquet', None), ('stellis', 'N-P---FB-'), ('ardentibus', 'T-PPPANB-'), ('aptum', None), ('.', 'U--------')]\n",
      "buboni\n",
      "axem buboni torquet stellis ardentibus aptum.\n"
     ]
    }
   ],
   "source": [
    "import json\n",
    "import requests\n",
    "\n",
    "import cltk\n",
    "from cltk.stem.latin.declension import CollatinusDecliner\n",
    "from cltk.tag.pos import POSTag\n",
    "\n",
    "\n",
    "url = 'http://api.aeneid.eu/sortes?version=latin'\n",
    "    \n",
    "r = requests.get(url)\n",
    "doc = r.json()\n",
    "# parse json to get raw text\n",
    "raw_text = doc['text'][0]\n",
    "\n",
    "\n",
    "# break down sentence into a list of words with syntax info\n",
    "tagger = POSTag('latin')\n",
    "tagged_sentence = tagger.tag_ngram_123_backoff(raw_text)\n",
    "print (tagged_sentence)\n",
    "\n",
    "# create an array showing the various forms of bubo with parts of speech\n",
    "decliner = CollatinusDecliner()\n",
    "declined_owl = decliner.decline(\"bubo\")\n",
    "\n",
    "#create variables to collect the word to be replaced, and the replacement form\n",
    "replacement_str = ''\n",
    "commutandum = ''\n",
    "\n",
    "# loop through the list of tagged words\n",
    "for item in tagged_sentence:\n",
    "    # some tags return None, hand with try/except\n",
    "    try:\n",
    "        #get the tag info\n",
    "        syntax_str = item[1]\n",
    "        # check the part of speech, number, and case\n",
    "        if syntax_str[0] == 'N' and syntax_str[2] and syntax_str[7]:\n",
    "            commutandum = item[0]\n",
    "            number = syntax_str[2]\n",
    "            case = syntax_str[7]\n",
    "            # find the matching case and number for bubo\n",
    "            for owl in declined_owl:\n",
    "                owl_syntax = owl[1]\n",
    "                if owl_syntax[2].capitalize() == number and owl_syntax[7].capitalize() == case:\n",
    "                    replacement_str = owl[0]\n",
    "                    print (owl[0])\n",
    "            # stop after the first one, so we only replace one word \n",
    "            break\n",
    "        else:\n",
    "            pass\n",
    "    except:\n",
    "        pass\n",
    "\n",
    "#replace the word\n",
    "sentence = raw_text.replace(commutandum, replacement_str)\n",
    "print (sentence)\n",
    "\n",
    "# print(tagger.tag_tnt(raw_text))\n",
    "# tagger.tag_crf(raw_text)\n",
    "\n",
    "\n",
    "# print(decliner.decline(\"bubo\"))\n",
    "\n",
    "# notes\n",
    "# find string beginning with N at 0 index, note its 2 and 7th character (number, case)\n",
    "# find item in bubo list that matches 2 and 7th character \n"
   ]
  },
  {
   "cell_type": "code",
   "execution_count": null,
   "metadata": {
    "collapsed": true
   },
   "outputs": [],
   "source": []
  },
  {
   "cell_type": "code",
   "execution_count": null,
   "metadata": {
    "collapsed": true
   },
   "outputs": [],
   "source": []
  },
  {
   "cell_type": "code",
   "execution_count": null,
   "metadata": {
    "collapsed": true
   },
   "outputs": [],
   "source": []
  }
 ],
 "metadata": {
  "kernelspec": {
   "display_name": "Python 3",
   "language": "python",
   "name": "python3"
  },
  "language_info": {
   "codemirror_mode": {
    "name": "ipython",
    "version": 3
   },
   "file_extension": ".py",
   "mimetype": "text/x-python",
   "name": "python",
   "nbconvert_exporter": "python",
   "pygments_lexer": "ipython3",
   "version": "3.6.1"
  }
 },
 "nbformat": 4,
 "nbformat_minor": 2
}
