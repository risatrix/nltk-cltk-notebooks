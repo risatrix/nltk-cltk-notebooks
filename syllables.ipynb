{
 "cells": [
  {
   "cell_type": "code",
   "execution_count": 28,
   "metadata": {},
   "outputs": [
    {
     "name": "stdout",
     "output_type": "stream",
     "text": [
      "dru\n",
      "['D', 'R', 'UW1']\n",
      "[1]\n",
      "𐀅\n",
      "𐀇\n"
     ]
    }
   ],
   "source": [
    "import nltk\n",
    "from nltk.corpus import cmudict\n",
    "\n",
    "\n",
    "creabet = [{'AA': u'\\U00010000'}, {'AO': u'\\U00010000'}, {'E': u'\\U00010001;'}, {'D': u'\\U00010005'}, \n",
    "           {'RE': u'\\U00010029;', 'U': u'\\U00010004' }]\n",
    "\n",
    "\n",
    "# nltk.download('cmudict')\n",
    "\n",
    "d = cmudict.dict()\n",
    "\n",
    "test_sentence = 'Colorless green ideas dream furiously.'\n",
    "\n",
    "#counting sentence syllables without curses\n",
    "def nsyl_sent(sentence):\n",
    "    nsyl = 0\n",
    "    tokens = nltk.word_tokenize(sentence)\n",
    "    for t in tokens:\n",
    "        print (t.lower())\n",
    "        if t.lower() in d:\n",
    "            print (d[t.lower()][0])\n",
    "            word_syl = [len(list(y for y in x if y[-1].isdigit())) for x in d[t.lower()]]\n",
    "            print(word_syl)\n",
    "            nsyl += word_syl[0]\n",
    "    return nsyl\n",
    "\n",
    "# nsyl_sent(test_sentence)\n",
    "\n",
    "def phoneme_word(word):\n",
    "    nsyl = 0\n",
    "    print (word.lower())\n",
    "    if word.lower() in d:\n",
    "        print (d[word.lower()][0])\n",
    "        word_syl = [len(list(y for y in x if y[-1].isdigit())) for x in d[word.lower()]]\n",
    "        print(word_syl)\n",
    "        nsyl += word_syl[0]\n",
    "    return nsyl\n",
    "\n",
    "phoneme_word('dru')\n",
    "\n",
    "print(u'\\U00010005')\n",
    "print(u\"\\U00010007\")\n",
    "\n",
    "#example of searching CMU dict?\n",
    "# import pronouncing\n",
    "# import sys\n",
    "# import random\n",
    "# import requests\n",
    "# sss_words = list()\n",
    "\n",
    "# url = \"http://svn.code.sf.net/p/cmusphinx/code/trunk/cmudict/cmudict-0.7b\"\n",
    "# r = requests.get(url)\n",
    "\n",
    "# doc = r.text\n",
    "\n",
    "# # for line in sys.stdin:\n",
    "# for line in doc:\n",
    "#     line = line.strip()\n",
    "#     if line.startswith(';'): continue\n",
    "#     word, phones = line.split(\"  \")\n",
    "#     syllable_count = phones.count('0') + phones.count('1') + phones.count('2')\n",
    "#     if phones.startswith('S ') and syllable_count == 1:\n",
    "#         sss_words.append(word.lower())\n",
    "\n",
    "# print (' '.join(random.sample(sss_words, 5)))\n",
    "\n",
    "# NOTES\n",
    "# https://en.wikipedia.org/wiki/Arpabet\n",
    "# https://thisisaaronland.github.io/unicode-table/#65544s\n",
    "# https://github.com/wayspurrchen/NovelFramer/blob/master/syllable.py\n",
    "# https://media.readthedocs.org/pdf/pronouncing/latest/pronouncing.pdf\n",
    "# https://github.com/aparrish/gen-text-workshop/blob/master/cmu_pronouncing_dictionary_notes.md"
   ]
  },
  {
   "cell_type": "code",
   "execution_count": null,
   "metadata": {
    "collapsed": true
   },
   "outputs": [],
   "source": []
  }
 ],
 "metadata": {
  "kernelspec": {
   "display_name": "Python 3",
   "language": "python",
   "name": "python3"
  },
  "language_info": {
   "codemirror_mode": {
    "name": "ipython",
    "version": 3
   },
   "file_extension": ".py",
   "mimetype": "text/x-python",
   "name": "python",
   "nbconvert_exporter": "python",
   "pygments_lexer": "ipython3",
   "version": "3.6.1"
  }
 },
 "nbformat": 4,
 "nbformat_minor": 2
}
