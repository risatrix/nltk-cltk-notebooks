{
 "cells": [
  {
   "cell_type": "code",
   "execution_count": 48,
   "metadata": {},
   "outputs": [
    {
     "name": "stdout",
     "output_type": "stream",
     "text": [
      "Thus, walking on, he spoke, and shew'd the gate,\n",
      "['Thus', ',', 'walking', 'on', ',', 'he', 'spoke', ',', 'and', 'shew', \"'d\", 'the', 'gate', ',']\n",
      "12\n",
      "['Thus', ',', 'walking', 'on', ',', 'he', 'spoke', ',', 'and', 'shew', \"'d\", 'the', '🦉', ',']\n",
      "Thus, walking on, he spoke, and shew'd the 🦉,\n",
      "🦉\n",
      "🌶\n",
      "𓆲\n"
     ]
    }
   ],
   "source": [
    "import requests\n",
    "import nltk\n",
    "import json\n",
    "\n",
    "from nltk.tokenize.moses import MosesDetokenizer\n",
    "\n",
    "\n",
    "# nltk.download('punkt')\n",
    "# nltk.download('maxent_treebank_pos_tagger')\n",
    "# nltk.download('averaged_perceptron_tagger')\n",
    "# nltk.download('perluniprops')\n",
    "\n",
    "url = \"http://api.aeneid.eu/sortes\"\n",
    "\n",
    "r = requests.get(url)\n",
    "\n",
    "doc = r.json()\n",
    "raw_text = doc['text'][0]\n",
    "\n",
    "print (raw_text)\n",
    "\n",
    "text = nltk.word_tokenize(raw_text)\n",
    "tokenized_list = nltk.pos_tag(text)\n",
    "\n",
    "print(text)\n",
    "\n",
    "replacement_index = ''\n",
    "\n",
    "for index, token in enumerate(tokenized_list):\n",
    "    if token[1][:1] == 'N':\n",
    "        replacement_index = index\n",
    "        break\n",
    "\n",
    "print(replacement_index)\n",
    "\n",
    "# text[replacement_index] = 'owl'\n",
    "text[replacement_index] = u'\\U0001F989'\n",
    "print(text)\n",
    "\n",
    "detokenizer = MosesDetokenizer()\n",
    "sentence = detokenizer.detokenize(text, return_str=True)\n",
    "print (sentence) \n",
    "#test owl\n",
    "print(u'\\U0001F989')\n",
    "#test chili peppers\n",
    "print(u\"\\U0001F336\")\n",
    "print(u\"\\U000131B2\")"
   ]
  },
  {
   "cell_type": "code",
   "execution_count": null,
   "metadata": {
    "collapsed": true
   },
   "outputs": [],
   "source": []
  },
  {
   "cell_type": "code",
   "execution_count": null,
   "metadata": {
    "collapsed": true
   },
   "outputs": [],
   "source": []
  },
  {
   "cell_type": "code",
   "execution_count": null,
   "metadata": {
    "collapsed": true
   },
   "outputs": [],
   "source": []
  }
 ],
 "metadata": {
  "kernelspec": {
   "display_name": "Python 3",
   "language": "python",
   "name": "python3"
  },
  "language_info": {
   "codemirror_mode": {
    "name": "ipython",
    "version": 3
   },
   "file_extension": ".py",
   "mimetype": "text/x-python",
   "name": "python",
   "nbconvert_exporter": "python",
   "pygments_lexer": "ipython3",
   "version": "3.6.1"
  }
 },
 "nbformat": 4,
 "nbformat_minor": 2
}
